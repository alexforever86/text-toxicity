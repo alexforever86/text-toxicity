{
 "cells": [
  {
   "cell_type": "code",
   "execution_count": 1,
   "metadata": {},
   "outputs": [],
   "source": [
    "# Credit: https://www.depends-on-the-definition.com/classify-toxic-comments-on-wikipedia/"
   ]
  },
  {
   "cell_type": "code",
   "execution_count": 40,
   "metadata": {},
   "outputs": [],
   "source": [
    "%matplotlib inline\n",
    "\n",
    "import pandas as pd\n",
    "import numpy as np\n",
    "import seaborn as sns\n",
    "import matplotlib.pyplot as plt\n",
    "from sklearn.metrics import multilabel_confusion_matrix\n",
    "from sklearn.model_selection import train_test_split\n",
    "from keras.preprocessing import sequence\n",
    "from keras.models import Model, Input\n",
    "from keras.layers import Dense, Embedding, GlobalMaxPooling1D\n",
    "from keras.preprocessing.text import Tokenizer\n",
    "from keras.optimizers import Adam\n",
    "\n",
    "\n",
    "plt.style.use(\"ggplot\")"
   ]
  },
  {
   "cell_type": "code",
   "execution_count": 3,
   "metadata": {},
   "outputs": [],
   "source": [
    "train_df = pd.read_csv(\"input/train.csv\")"
   ]
  },
  {
   "cell_type": "code",
   "execution_count": 4,
   "metadata": {},
   "outputs": [
    {
     "data": {
      "text/plain": [
       "id               False\n",
       "comment_text     False\n",
       "toxic            False\n",
       "severe_toxic     False\n",
       "obscene          False\n",
       "threat           False\n",
       "insult           False\n",
       "identity_hate    False\n",
       "dtype: bool"
      ]
     },
     "execution_count": 4,
     "metadata": {},
     "output_type": "execute_result"
    }
   ],
   "source": [
    "train_df.isnull().any()"
   ]
  },
  {
   "cell_type": "code",
   "execution_count": 5,
   "metadata": {},
   "outputs": [
    {
     "data": {
      "text/plain": [
       "id               False\n",
       "comment_text     False\n",
       "toxic            False\n",
       "severe_toxic     False\n",
       "obscene          False\n",
       "threat           False\n",
       "insult           False\n",
       "identity_hate    False\n",
       "dtype: bool"
      ]
     },
     "execution_count": 5,
     "metadata": {},
     "output_type": "execute_result"
    }
   ],
   "source": [
    "train_df.isna().any()"
   ]
  },
  {
   "cell_type": "code",
   "execution_count": 6,
   "metadata": {},
   "outputs": [],
   "source": [
    "## Replace all NaN values by \"sterby\". I don't know what that word means\n",
    "# train_df = pd.read_csv(\"input/train.csv\").fillna(\"sterby\")\n",
    "# test_df = pd.read_csv(\"input/test.csv\").fillna(\"sterby\")\n",
    "\n",
    "train_df = pd.read_csv(\"input/train.csv\")\n",
    "# test_df = pd.read_csv(\"input/test.csv\")"
   ]
  },
  {
   "cell_type": "code",
   "execution_count": 7,
   "metadata": {},
   "outputs": [
    {
     "data": {
      "text/html": [
       "<div>\n",
       "<style scoped>\n",
       "    .dataframe tbody tr th:only-of-type {\n",
       "        vertical-align: middle;\n",
       "    }\n",
       "\n",
       "    .dataframe tbody tr th {\n",
       "        vertical-align: top;\n",
       "    }\n",
       "\n",
       "    .dataframe thead th {\n",
       "        text-align: right;\n",
       "    }\n",
       "</style>\n",
       "<table border=\"1\" class=\"dataframe\">\n",
       "  <thead>\n",
       "    <tr style=\"text-align: right;\">\n",
       "      <th></th>\n",
       "      <th>id</th>\n",
       "      <th>comment_text</th>\n",
       "      <th>toxic</th>\n",
       "      <th>severe_toxic</th>\n",
       "      <th>obscene</th>\n",
       "      <th>threat</th>\n",
       "      <th>insult</th>\n",
       "      <th>identity_hate</th>\n",
       "    </tr>\n",
       "  </thead>\n",
       "  <tbody>\n",
       "    <tr>\n",
       "      <th>0</th>\n",
       "      <td>0000997932d777bf</td>\n",
       "      <td>Explanation\\nWhy the edits made under my usern...</td>\n",
       "      <td>0</td>\n",
       "      <td>0</td>\n",
       "      <td>0</td>\n",
       "      <td>0</td>\n",
       "      <td>0</td>\n",
       "      <td>0</td>\n",
       "    </tr>\n",
       "    <tr>\n",
       "      <th>1</th>\n",
       "      <td>000103f0d9cfb60f</td>\n",
       "      <td>D'aww! He matches this background colour I'm s...</td>\n",
       "      <td>0</td>\n",
       "      <td>0</td>\n",
       "      <td>0</td>\n",
       "      <td>0</td>\n",
       "      <td>0</td>\n",
       "      <td>0</td>\n",
       "    </tr>\n",
       "    <tr>\n",
       "      <th>2</th>\n",
       "      <td>000113f07ec002fd</td>\n",
       "      <td>Hey man, I'm really not trying to edit war. It...</td>\n",
       "      <td>0</td>\n",
       "      <td>0</td>\n",
       "      <td>0</td>\n",
       "      <td>0</td>\n",
       "      <td>0</td>\n",
       "      <td>0</td>\n",
       "    </tr>\n",
       "    <tr>\n",
       "      <th>3</th>\n",
       "      <td>0001b41b1c6bb37e</td>\n",
       "      <td>\"\\nMore\\nI can't make any real suggestions on ...</td>\n",
       "      <td>0</td>\n",
       "      <td>0</td>\n",
       "      <td>0</td>\n",
       "      <td>0</td>\n",
       "      <td>0</td>\n",
       "      <td>0</td>\n",
       "    </tr>\n",
       "    <tr>\n",
       "      <th>4</th>\n",
       "      <td>0001d958c54c6e35</td>\n",
       "      <td>You, sir, are my hero. Any chance you remember...</td>\n",
       "      <td>0</td>\n",
       "      <td>0</td>\n",
       "      <td>0</td>\n",
       "      <td>0</td>\n",
       "      <td>0</td>\n",
       "      <td>0</td>\n",
       "    </tr>\n",
       "  </tbody>\n",
       "</table>\n",
       "</div>"
      ],
      "text/plain": [
       "                 id                                       comment_text  toxic  \\\n",
       "0  0000997932d777bf  Explanation\\nWhy the edits made under my usern...      0   \n",
       "1  000103f0d9cfb60f  D'aww! He matches this background colour I'm s...      0   \n",
       "2  000113f07ec002fd  Hey man, I'm really not trying to edit war. It...      0   \n",
       "3  0001b41b1c6bb37e  \"\\nMore\\nI can't make any real suggestions on ...      0   \n",
       "4  0001d958c54c6e35  You, sir, are my hero. Any chance you remember...      0   \n",
       "\n",
       "   severe_toxic  obscene  threat  insult  identity_hate  \n",
       "0             0        0       0       0              0  \n",
       "1             0        0       0       0              0  \n",
       "2             0        0       0       0              0  \n",
       "3             0        0       0       0              0  \n",
       "4             0        0       0       0              0  "
      ]
     },
     "execution_count": 7,
     "metadata": {},
     "output_type": "execute_result"
    }
   ],
   "source": [
    "train_df.head()"
   ]
  },
  {
   "cell_type": "code",
   "execution_count": 8,
   "metadata": {},
   "outputs": [
    {
     "name": "stdout",
     "output_type": "stream",
     "text": [
      "Percentage of comments belonging to each class \n"
     ]
    },
    {
     "data": {
      "text/html": [
       "<div>\n",
       "<style scoped>\n",
       "    .dataframe tbody tr th:only-of-type {\n",
       "        vertical-align: middle;\n",
       "    }\n",
       "\n",
       "    .dataframe tbody tr th {\n",
       "        vertical-align: top;\n",
       "    }\n",
       "\n",
       "    .dataframe thead th {\n",
       "        text-align: right;\n",
       "    }\n",
       "</style>\n",
       "<table border=\"1\" class=\"dataframe\">\n",
       "  <thead>\n",
       "    <tr style=\"text-align: right;\">\n",
       "      <th></th>\n",
       "      <th>toxic</th>\n",
       "      <th>severe_toxic</th>\n",
       "      <th>obscene</th>\n",
       "      <th>threat</th>\n",
       "      <th>insult</th>\n",
       "      <th>identity_hate</th>\n",
       "    </tr>\n",
       "  </thead>\n",
       "  <tbody>\n",
       "    <tr>\n",
       "      <th>mean</th>\n",
       "      <td>9.584448</td>\n",
       "      <td>0.999555</td>\n",
       "      <td>5.294822</td>\n",
       "      <td>0.299553</td>\n",
       "      <td>4.936361</td>\n",
       "      <td>0.880486</td>\n",
       "    </tr>\n",
       "  </tbody>\n",
       "</table>\n",
       "</div>"
      ],
      "text/plain": [
       "         toxic  severe_toxic   obscene    threat    insult  identity_hate\n",
       "mean  9.584448      0.999555  5.294822  0.299553  4.936361       0.880486"
      ]
     },
     "execution_count": 8,
     "metadata": {},
     "output_type": "execute_result"
    }
   ],
   "source": [
    "print(\"Percentage of comments belonging to each class \")\n",
    "train_df.describe().loc[['mean']]*100"
   ]
  },
  {
   "cell_type": "code",
   "execution_count": 9,
   "metadata": {},
   "outputs": [
    {
     "name": "stdout",
     "output_type": "stream",
     "text": [
      "toxic\n",
      "[0 1]\n",
      "severe_toxic\n",
      "[0 1]\n",
      "obscene\n",
      "[0 1]\n",
      "threat\n",
      "[0 1]\n",
      "insult\n",
      "[0 1]\n",
      "identity_hate\n",
      "[0 1]\n"
     ]
    }
   ],
   "source": [
    "# Making sure y columns contain 0 and 1\n",
    "for col in list(train_df.drop(['id', 'comment_text'], 1)):\n",
    "    print(col)\n",
    "    print(train_df[col].unique())"
   ]
  },
  {
   "cell_type": "code",
   "execution_count": 10,
   "metadata": {},
   "outputs": [
    {
     "data": {
      "text/plain": [
       "<matplotlib.axes._subplots.AxesSubplot at 0x7f669d403150>"
      ]
     },
     "execution_count": 10,
     "metadata": {},
     "output_type": "execute_result"
    },
    {
     "data": {
      "image/png": "[encoded data removed]",
      "text/plain": [
       "<Figure size 432x288 with 2 Axes>"
      ]
     },
     "metadata": {},
     "output_type": "display_data"
    }
   ],
   "source": [
    "corr = train_df[[\"toxic\", \"severe_toxic\", \"obscene\", \"threat\", \"insult\", \"identity_hate\"]].corr()\n",
    "\n",
    "# plot the heatmap\n",
    "sns.heatmap(corr, \n",
    "            cmap=\"YlGnBu\",\n",
    "            xticklabels=corr.columns,\n",
    "            yticklabels=corr.columns)"
   ]
  },
  {
   "cell_type": "code",
   "execution_count": 11,
   "metadata": {},
   "outputs": [],
   "source": [
    "X_df = train_df[\"comment_text\"].values\n",
    "y_df = train_df[[\"toxic\", \"severe_toxic\", \"obscene\", \"threat\", \"insult\", \"identity_hate\"]].values\n",
    "# X_test = test_df[\"comment_text\"].values"
   ]
  },
  {
   "cell_type": "code",
   "execution_count": 12,
   "metadata": {},
   "outputs": [
    {
     "name": "stdout",
     "output_type": "stream",
     "text": [
      "[9.5844483  0.99955506 5.29482174 0.29955318 4.93636062 0.8804858 ]\n"
     ]
    }
   ],
   "source": [
    "# Getting the percentage, the numpy way\n",
    "print(np.mean(y_df, axis=0) * 100)"
   ]
  },
  {
   "cell_type": "code",
   "execution_count": 13,
   "metadata": {},
   "outputs": [
    {
     "name": "stdout",
     "output_type": "stream",
     "text": [
      "Percentage of comments belonging to atleast one group 10.167887648758233\n"
     ]
    }
   ],
   "source": [
    "# Total toxic comments - all class\n",
    "num_of_classes = np.sum(y_df, axis=1)\n",
    "atleast_one = num_of_classes[num_of_classes > 0]\n",
    "print(\"Percentage of comments belonging to atleast one group\", atleast_one.shape[0]*100/y_df.shape[0])"
   ]
  },
  {
   "cell_type": "code",
   "execution_count": 14,
   "metadata": {},
   "outputs": [
    {
     "name": "stdout",
     "output_type": "stream",
     "text": [
      "(127656,) (127656, 6)\n",
      "(31915,) (31915, 6)\n"
     ]
    }
   ],
   "source": [
    "X_train, X_test, y_train, y_test = train_test_split(X_df, y_df, test_size=0.2)\n",
    "print (X_train.shape, y_train.shape)\n",
    "print (X_test.shape, y_test.shape)"
   ]
  },
  {
   "cell_type": "code",
   "execution_count": 16,
   "metadata": {},
   "outputs": [
    {
     "name": "stdout",
     "output_type": "stream",
     "text": [
      "[9.63213637 1.00582816 5.31114871 0.29924171 4.96803911 0.89537507]\n",
      "[9.39370202 0.97446342 5.2295159  0.300799   4.80965063 0.8209306 ]\n"
     ]
    }
   ],
   "source": [
    "# Checking the distribution after split\n",
    "print(np.mean(y_train, axis=0) * 100)\n",
    "print(np.mean(y_test, axis=0) * 100)"
   ]
  },
  {
   "cell_type": "code",
   "execution_count": 17,
   "metadata": {},
   "outputs": [
    {
     "name": "stdout",
     "output_type": "stream",
     "text": [
      "Train =>  Percentage of comments belonging to atleast one group 10.211035909005453\n",
      "Train =>  Percentage of comments belonging to atleast one group 9.995300015666615\n"
     ]
    }
   ],
   "source": [
    "# Total toxic comments - all class\n",
    "num_of_classes = np.sum(y_train, axis=1)\n",
    "atleast_one = num_of_classes[num_of_classes > 0]\n",
    "print(\"Train =>  Percentage of comments belonging to atleast one group\", atleast_one.shape[0]*100/y_train.shape[0])\n",
    "\n",
    "num_of_classes = np.sum(y_test, axis=1)\n",
    "atleast_one = num_of_classes[num_of_classes > 0]\n",
    "print(\"Train =>  Percentage of comments belonging to atleast one group\", atleast_one.shape[0]*100/y_test.shape[0])"
   ]
  },
  {
   "cell_type": "code",
   "execution_count": 18,
   "metadata": {},
   "outputs": [],
   "source": [
    "max_features = 20000  # number of words we want to keep\n",
    "maxlen = 100  # max length of the comments in the model\n",
    "batch_size = 64  # batch size for the model\n",
    "embedding_dims = 20  # dimension of the hidden variable, i.e. the embedding dimension"
   ]
  },
  {
   "cell_type": "code",
   "execution_count": 47,
   "metadata": {},
   "outputs": [],
   "source": [
    "# Not sure what length of comments means. Is it the number of words or characters?\n",
    "# What is embedding dimension"
   ]
  },
  {
   "cell_type": "code",
   "execution_count": 49,
   "metadata": {},
   "outputs": [],
   "source": [
    "# Text data must be encoded as numbers to be used as input or output for machine learning and deep learning models."
   ]
  },
  {
   "cell_type": "code",
   "execution_count": 19,
   "metadata": {},
   "outputs": [
    {
     "name": "stdout",
     "output_type": "stream",
     "text": [
      "127656 train sequences\n",
      "31915 test sequences\n",
      "Average train sequence length: 65\n",
      "Average test sequence length: 64\n"
     ]
    }
   ],
   "source": [
    "tok = Tokenizer(num_words=max_features)\n",
    "# tok.fit_on_texts(list(X_train) + list(X_test))\n",
    "tok.fit_on_texts(X_train)\n",
    "x_train = tok.texts_to_sequences(X_train)\n",
    "x_test = tok.texts_to_sequences(X_test)\n",
    "print(len(x_train), 'train sequences')\n",
    "print(len(x_test), 'test sequences')\n",
    "print('Average train sequence length: {}'.format(np.mean(list(map(len, x_train)), dtype=int)))\n",
    "print('Average test sequence length: {}'.format(np.mean(list(map(len, x_test)), dtype=int)))"
   ]
  },
  {
   "cell_type": "code",
   "execution_count": 60,
   "metadata": {},
   "outputs": [],
   "source": [
    "# Can we use fit_on_texts on the testing data. Are we not tweaking the results there?"
   ]
  },
  {
   "cell_type": "code",
   "execution_count": 20,
   "metadata": {},
   "outputs": [
    {
     "name": "stdout",
     "output_type": "stream",
     "text": [
      "x_train shape: (127656, 100)\n",
      "x_test shape: (31915, 100)\n"
     ]
    }
   ],
   "source": [
    "x_train = sequence.pad_sequences(x_train, maxlen=maxlen)\n",
    "x_test = sequence.pad_sequences(x_test, maxlen=maxlen)\n",
    "print('x_train shape:', x_train.shape)\n",
    "print('x_test shape:', x_test.shape)"
   ]
  },
  {
   "cell_type": "code",
   "execution_count": 21,
   "metadata": {},
   "outputs": [],
   "source": [
    "input     = Input((maxlen,))\n",
    "embedding = Embedding(max_features, embedding_dims, input_length=maxlen, \n",
    "                        embeddings_initializer=\"uniform\")(input)\n",
    "hidden    = GlobalMaxPooling1D()(embedding)\n",
    "output    = Dense(6, activation='sigmoid')(hidden)\n",
    "model = Model(inputs=input, outputs=output)\n",
    "\n",
    "model.compile(loss='binary_crossentropy',\n",
    "              optimizer=Adam(0.01),\n",
    "              metrics=['accuracy'])"
   ]
  },
  {
   "cell_type": "code",
   "execution_count": 22,
   "metadata": {},
   "outputs": [
    {
     "name": "stderr",
     "output_type": "stream",
     "text": [
      "/home/work/anaconda3/envs/ml_py3.7/lib/python3.7/site-packages/tensorflow_core/python/framework/indexed_slices.py:424: UserWarning: Converting sparse IndexedSlices to a dense Tensor of unknown shape. This may consume a large amount of memory.\n",
      "  \"Converting sparse IndexedSlices to a dense Tensor of unknown shape. \"\n"
     ]
    },
    {
     "name": "stdout",
     "output_type": "stream",
     "text": [
      "Train on 127656 samples, validate on 31915 samples\n",
      "Epoch 1/10\n",
      "127656/127656 [==============================] - 10s 77us/step - loss: 0.0725 - accuracy: 0.9771 - val_loss: 0.0544 - val_accuracy: 0.9809\n",
      "Epoch 2/10\n",
      "127656/127656 [==============================] - 7s 58us/step - loss: 0.0524 - accuracy: 0.9811 - val_loss: 0.0532 - val_accuracy: 0.9810\n",
      "Epoch 3/10\n",
      "127656/127656 [==============================] - 7s 53us/step - loss: 0.0489 - accuracy: 0.9820 - val_loss: 0.0521 - val_accuracy: 0.9812\n",
      "Epoch 4/10\n",
      "127656/127656 [==============================] - 7s 53us/step - loss: 0.0463 - accuracy: 0.9827 - val_loss: 0.0513 - val_accuracy: 0.9815\n",
      "Epoch 5/10\n",
      "127656/127656 [==============================] - 7s 57us/step - loss: 0.0448 - accuracy: 0.9832 - val_loss: 0.0517 - val_accuracy: 0.9815\n",
      "Epoch 6/10\n",
      "127656/127656 [==============================] - 7s 52us/step - loss: 0.0435 - accuracy: 0.9834 - val_loss: 0.0530 - val_accuracy: 0.9811\n",
      "Epoch 7/10\n",
      "127656/127656 [==============================] - 7s 52us/step - loss: 0.0421 - accuracy: 0.9840 - val_loss: 0.0520 - val_accuracy: 0.9811\n",
      "Epoch 8/10\n",
      "127656/127656 [==============================] - 7s 58us/step - loss: 0.0408 - accuracy: 0.9845 - val_loss: 0.0533 - val_accuracy: 0.9814\n",
      "Epoch 9/10\n",
      "127656/127656 [==============================] - 11s 86us/step - loss: 0.0394 - accuracy: 0.9848 - val_loss: 0.0535 - val_accuracy: 0.9816\n",
      "Epoch 10/10\n",
      "127656/127656 [==============================] - 8s 61us/step - loss: 0.0383 - accuracy: 0.9854 - val_loss: 0.0563 - val_accuracy: 0.9810\n"
     ]
    }
   ],
   "source": [
    "hist = model.fit(x_train, y_train, batch_size=batch_size, epochs=10,  validation_data=(x_test, y_test))"
   ]
  },
  {
   "cell_type": "code",
   "execution_count": 23,
   "metadata": {},
   "outputs": [
    {
     "name": "stdout",
     "output_type": "stream",
     "text": [
      "127656/127656 [==============================] - 2s 17us/step\n",
      "Training\n",
      "['loss', 'accuracy']\n",
      "[0.03655799224722721, 0.9857820868492126]\n"
     ]
    }
   ],
   "source": [
    "training_score = model.evaluate(np.array(x_train),np.array(y_train))\n",
    "print('Training')\n",
    "print(model.metrics_names) \n",
    "print(training_score)\n"
   ]
  },
  {
   "cell_type": "code",
   "execution_count": 24,
   "metadata": {},
   "outputs": [
    {
     "name": "stdout",
     "output_type": "stream",
     "text": [
      "31915/31915 [==============================] - 1s 19us/step\n",
      "Training\n",
      "['loss', 'accuracy']\n",
      "[0.05633315006770006, 0.981049120426178]\n"
     ]
    }
   ],
   "source": [
    "testing_score = model.evaluate(np.array(x_test),np.array(y_test))\n",
    "print('Training')\n",
    "print(model.metrics_names) \n",
    "print(testing_score)"
   ]
  },
  {
   "cell_type": "code",
   "execution_count": 30,
   "metadata": {},
   "outputs": [
    {
     "name": "stdout",
     "output_type": "stream",
     "text": [
      "dict_keys(['val_loss', 'val_accuracy', 'loss', 'accuracy'])\n"
     ]
    }
   ],
   "source": [
    "print(hist.history.keys())"
   ]
  },
  {
   "cell_type": "code",
   "execution_count": 31,
   "metadata": {},
   "outputs": [
    {
     "data": {
      "image/png": "[encoded data removed]",
      "text/plain": [
       "<Figure size 432x288 with 1 Axes>"
      ]
     },
     "metadata": {},
     "output_type": "display_data"
    }
   ],
   "source": [
    "plt.plot(hist.history['accuracy'])\n",
    "plt.plot(hist.history['val_accuracy'])\n",
    "plt.legend(['training', 'validation'], loc = 'upper left')\n",
    "plt.show()"
   ]
  },
  {
   "cell_type": "code",
   "execution_count": 38,
   "metadata": {},
   "outputs": [
    {
     "name": "stdout",
     "output_type": "stream",
     "text": [
      "[[9.9938560e-01 1.1546931e-01 9.8758119e-01 1.5202165e-04 9.7094429e-01\n",
      "  2.1951824e-02]\n",
      " [9.8922849e-04 2.2947788e-06 3.1004249e-05 1.1417759e-05 1.3829641e-04\n",
      "  5.9363174e-05]]\n",
      "[[1. 0. 1. 0. 1. 0.]\n",
      " [0. 0. 0. 0. 0. 0.]]\n"
     ]
    }
   ],
   "source": [
    "a = model.predict(x_test[:2])\n",
    "print(a)\n",
    "print(np.round(a))"
   ]
  },
  {
   "cell_type": "code",
   "execution_count": 37,
   "metadata": {},
   "outputs": [
    {
     "name": "stdout",
     "output_type": "stream",
     "text": [
      "[[1 0 1 0 1 0]\n",
      " [0 0 0 0 0 0]]\n"
     ]
    }
   ],
   "source": [
    "print(y_test[:2])"
   ]
  },
  {
   "cell_type": "code",
   "execution_count": 67,
   "metadata": {},
   "outputs": [
    {
     "name": "stdout",
     "output_type": "stream",
     "text": [
      "toxic\n",
      "[[28515   402]\n",
      " [  911  2087]]\n",
      "severe_toxic\n",
      "[[31574    30]\n",
      " [  273    38]]\n",
      "obscene\n",
      "[[30141   105]\n",
      " [  666  1003]]\n",
      "threat\n",
      "[[31809    10]\n",
      " [   82    14]]\n",
      "insult\n",
      "[[30098   282]\n",
      " [  596   939]]\n",
      "identity_hate\n",
      "[[31579    74]\n",
      " [  198    64]]\n"
     ]
    }
   ],
   "source": [
    "# Prediction\n",
    "y_predict = model.predict(x_test)\n",
    "y_pred = np.round(y_predict)\n",
    "\n",
    "# Confusion Matrix\n",
    "from sklearn.metrics import confusion_matrix\n",
    "cm = multilabel_confusion_matrix(y_test, y_pred)\n",
    "# print(cm)\n",
    "\n",
    "i = 0\n",
    "\n",
    "for each in [\"toxic\", \"severe_toxic\", \"obscene\", \"threat\", \"insult\", \"identity_hate\"]:\n",
    "    print(each)\n",
    "    print(cm[i])\n",
    "    i = i + 1\n"
   ]
  },
  {
   "cell_type": "code",
   "execution_count": null,
   "metadata": {},
   "outputs": [],
   "source": []
  }
 ],
 "metadata": {
  "kernelspec": {
   "display_name": "Python 3.7 ML",
   "language": "python",
   "name": "ml_py3.7"
  },
  "language_info": {
   "codemirror_mode": {
    "name": "ipython",
    "version": 3
   },
   "file_extension": ".py",
   "mimetype": "text/x-python",
   "name": "python",
   "nbconvert_exporter": "python",
   "pygments_lexer": "ipython3",
   "version": "3.7.5"
  }
 },
 "nbformat": 4,
 "nbformat_minor": 4
}
